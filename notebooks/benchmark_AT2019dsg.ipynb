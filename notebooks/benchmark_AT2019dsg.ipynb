{
 "cells": [
  {
   "cell_type": "code",
   "execution_count": 1,
   "metadata": {},
   "outputs": [],
   "source": [
    "%matplotlib inline\n",
    "import matplotlib.pyplot as plt\n",
    "from simtel import telescopes\n",
    "from astropy import units as u\n",
    "from astropy import constants as const\n",
    "import numpy as np\n",
    "from simtel import BlackBody"
   ]
  },
  {
   "cell_type": "code",
   "execution_count": 2,
   "metadata": {},
   "outputs": [],
   "source": [
    "bb = BlackBody(10.**4.59, 0.95*10.**14.59)\n",
    "wl = 4640.\n",
    "z = 0.052"
   ]
  },
  {
   "cell_type": "code",
   "execution_count": 3,
   "metadata": {},
   "outputs": [
    {
     "name": "stdout",
     "output_type": "stream",
     "text": [
      "1.1e+43 erg / s\n",
      "Reference AT2019dsg nu L_nu was: ~1e+43 erg / s\n",
      "The flux corresponds of a g-band magnitude of -19.02 (-18.89 for reference)\n"
     ]
    }
   ],
   "source": [
    "l_max = bb.peak_luminosity(wl).to(\"W AA-1\")\n",
    "print(f'{(l_max * wl * u.AA).to(\"erg s-1\"):.2g}')\n",
    "\n",
    "ref_l = 1.0 * 10.**43. * u.erg / (u.s)\n",
    "\n",
    "print(f\"Reference AT2019dsg nu L_nu was: ~{ref_l:.2g}\")\n",
    "\n",
    "ref_g = -18.89\n",
    "\n",
    "new_g = bb.lum_to_abs_mag(bb.peak_luminosity_nu(wl))\n",
    "\n",
    "print(f\"The flux corresponds of a g-band magnitude of {new_g:.2f} ({ref_g:.2f} for reference)\")"
   ]
  },
  {
   "cell_type": "code",
   "execution_count": 4,
   "metadata": {},
   "outputs": [
    {
     "name": "stdout",
     "output_type": "stream",
     "text": [
      "1.7e-12 erg / (cm2 s)\n",
      "Reference AT2019dsg nu F_nu was: ~1.7e-12 erg / (cm2 s)\n",
      "The flux corresponds of a g-band magnitude of 17.83 (17.85 for reference)\n"
     ]
    }
   ],
   "source": [
    "f_max = bb.peak_flux(wl, z=z)\n",
    "f_max_nu = bb.peak_flux_nu(wl, z=z).to(u.erg/(u.cm**2. * u.Hz * u.s))\n",
    "print(f'{(f_max * wl * u.AA).to(\"erg s-1 cm-2\"):.2g}')\n",
    "\n",
    "ref_f = 1.7 * 10.**-12. * u.erg / (u.s * u.cm**2.)\n",
    "\n",
    "print(f\"Reference AT2019dsg nu F_nu was: ~{ref_f:.2g}\")\n",
    "\n",
    "ref_g = 17.85\n",
    "\n",
    "bb.flux_to_ab_mag(f_max_nu)\n",
    "\n",
    "print(f\"The flux corresponds of a g-band magnitude of {bb.flux_to_ab_mag(f_max_nu):.2f} ({ref_g:.2f} for reference)\")"
   ]
  },
  {
   "cell_type": "code",
   "execution_count": null,
   "metadata": {},
   "outputs": [],
   "source": []
  },
  {
   "cell_type": "code",
   "execution_count": null,
   "metadata": {},
   "outputs": [],
   "source": []
  }
 ],
 "metadata": {
  "kernelspec": {
   "display_name": "simtel_env",
   "language": "python",
   "name": "simtel_env"
  },
  "language_info": {
   "codemirror_mode": {
    "name": "ipython",
    "version": 3
   },
   "file_extension": ".py",
   "mimetype": "text/x-python",
   "name": "python",
   "nbconvert_exporter": "python",
   "pygments_lexer": "ipython3",
   "version": "3.9.6"
  }
 },
 "nbformat": 4,
 "nbformat_minor": 4
}
